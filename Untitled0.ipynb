{
  "nbformat": 4,
  "nbformat_minor": 0,
  "metadata": {
    "colab": {
      "provenance": [],
      "authorship_tag": "ABX9TyNuwLjpCKr2BgAuaD5127I7",
      "include_colab_link": true
    },
    "kernelspec": {
      "name": "python3",
      "display_name": "Python 3"
    },
    "language_info": {
      "name": "python"
    }
  },
  "cells": [
    {
      "cell_type": "markdown",
      "metadata": {
        "id": "view-in-github",
        "colab_type": "text"
      },
      "source": [
        "<a href=\"https://colab.research.google.com/github/Agoev1/dz/blob/main/Untitled0.ipynb\" target=\"_parent\"><img src=\"https://colab.research.google.com/assets/colab-badge.svg\" alt=\"Open In Colab\"/></a>"
      ]
    },
    {
      "cell_type": "markdown",
      "source": [],
      "metadata": {
        "id": "q9-FRUhkdeST"
      }
    },
    {
      "cell_type": "markdown",
      "source": [
        "Задача 1\n",
        "Написать программу, вычисляющую объем и площадь поверхности цилиндра по заданным радиусу и высоте"
      ],
      "metadata": {
        "id": "Hc2yeRkanSvT"
      }
    },
    {
      "cell_type": "code",
      "source": [
        "import math\n",
        "r = int(input(\"Введите радиус цилиндра: \"))\n",
        "h = int(input(\"Введите высоту цилиндра: \"))\n",
        "S = math.pi * r**2\n",
        "print (f\"Площадь цилиндра с радиусом {r} = {int(S)}\")\n",
        "V = S*h\n",
        "print(f\"Обьем цилиндра с радиусом {r} и высотой{h} = {int(V)}\")"
      ],
      "metadata": {
        "colab": {
          "base_uri": "https://localhost:8080/"
        },
        "id": "J7lgsyy-nUy5",
        "outputId": "a2531c48-e748-46ae-fee4-563d26564f63"
      },
      "execution_count": 9,
      "outputs": [
        {
          "output_type": "stream",
          "name": "stdout",
          "text": [
            "Введите радиус цилиндра: 2\n",
            "Введите высоту цилиндра: 4\n",
            "Площадь цилиндра с радиусом 2 = 12\n",
            "Обьем цилиндра с радиусом 2 и высотой4 = 50\n"
          ]
        }
      ]
    }
  ]
}