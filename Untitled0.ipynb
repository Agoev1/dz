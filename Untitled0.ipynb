{
  "nbformat": 4,
  "nbformat_minor": 0,
  "metadata": {
    "colab": {
      "provenance": [],
      "authorship_tag": "ABX9TyNCkcuX1YV2ybn6r+DMKq7G",
      "include_colab_link": true
    },
    "kernelspec": {
      "name": "python3",
      "display_name": "Python 3"
    },
    "language_info": {
      "name": "python"
    }
  },
  "cells": [
    {
      "cell_type": "markdown",
      "metadata": {
        "id": "view-in-github",
        "colab_type": "text"
      },
      "source": [
        "<a href=\"https://colab.research.google.com/github/Agoev1/dz/blob/main/Untitled0.ipynb\" target=\"_parent\"><img src=\"https://colab.research.google.com/assets/colab-badge.svg\" alt=\"Open In Colab\"/></a>"
      ]
    },
    {
      "cell_type": "markdown",
      "source": [],
      "metadata": {
        "id": "q9-FRUhkdeST"
      }
    },
    {
      "cell_type": "markdown",
      "source": [
        "Задача 1\n",
        "Написать программу, вычисляющую объем и площадь поверхности цилиндра по заданным радиусу и высоте"
      ],
      "metadata": {
        "id": "Hc2yeRkanSvT"
      }
    },
    {
      "cell_type": "code",
      "source": [
        "import math\n",
        "r = int(input(\"Введите радиус цилиндра: \"))\n",
        "h = int(input(\"Введите высоту цилиндра: \"))\n",
        "S = 2 * math.pi * r * (r+h)\n",
        "print (f\"Площадь цилиндра с радиусом {r} = {int(S)}\")\n",
        "V = math.pi * r**2 * h\n",
        "print(f\"Обьем цилиндра с радиусом {r} и высотой {h} = {int(V)}\")"
      ],
      "metadata": {
        "colab": {
          "base_uri": "https://localhost:8080/"
        },
        "id": "J7lgsyy-nUy5",
        "outputId": "cd2152d3-f4eb-409a-e426-650fdca5a63a"
      },
      "execution_count": 1,
      "outputs": [
        {
          "output_type": "stream",
          "name": "stdout",
          "text": [
            "Введите радиус цилиндра: 5\n",
            "Введите высоту цилиндра: 3\n",
            "Площадь цилиндра с радиусом 5 = 251\n",
            "Обьем цилиндра с радиусом 5 и высотой3 = 235\n"
          ]
        }
      ]
    },
    {
      "cell_type": "markdown",
      "source": [
        "Задача 2 Написать программу, вычисляющую корень квадратного уравнения"
      ],
      "metadata": {
        "id": "txXSoh-FM1rE"
      }
    },
    {
      "cell_type": "code",
      "source": [
        "import math\n",
        "a = int (input(\"Введите значение переменной a: \"))\n",
        "b = int (input(\"Введите значение переменной b: \"))\n",
        "c = int (input(\"Введите значение переменной c: \"))\n",
        "D = b**2 - 4*a*c\n",
        "if (D >0):\n",
        "  x1 = int ((-b - math.sqrt(D)) / (a*2))\n",
        "  x2 = int ((-b + math.sqrt(D)) / (a*2))\n",
        "  print (f\"x1 = x{1}, x2 = {x2}\")\n",
        "elif(D == 0):\n",
        "    x = int(-b / (a*2))\n",
        "    print (F\"x = {x}\")\n",
        "else:\n",
        "    print(\"нет корней\")\n"
      ],
      "metadata": {
        "colab": {
          "base_uri": "https://localhost:8080/"
        },
        "id": "jtZyVQGYNXtk",
        "outputId": "e91fdd01-e0c8-4fb0-a708-126373acc3f0"
      },
      "execution_count": 3,
      "outputs": [
        {
          "output_type": "stream",
          "name": "stdout",
          "text": [
            "Введите значение переменной a: 5\n",
            "Введите значение переменной b: 4\n",
            "Введите значение переменной c: 3\n",
            "нет корней\n"
          ]
        }
      ]
    },
    {
      "cell_type": "markdown",
      "source": [
        "Задача 3 На основе массива А сформировать массив В, в котором элементы расположены в порядке возростания"
      ],
      "metadata": {
        "id": "b3vEfz4UOrIK"
      }
    },
    {
      "cell_type": "code",
      "source": [
        "A = [5,2,9,1,3,6,4,8]\n",
        "B = A.copy()\n",
        "\n",
        "n = len(B)\n",
        "for i in range (n):\n",
        "  for j in range (0, n-i-1):\n",
        "    if B[j] > B[j+1]:\n",
        "      B[j], B[j+1] = B[j+1], B[j]\n",
        "\n",
        "print (\"Массив A: \", A)\n",
        "print(\"Массив B (отсортированный): \", B)"
      ],
      "metadata": {
        "id": "2kx3W7f9PkBX",
        "outputId": "b4a367f1-7e39-4862-ec80-48a6c394ff8d",
        "colab": {
          "base_uri": "https://localhost:8080/"
        }
      },
      "execution_count": 7,
      "outputs": [
        {
          "output_type": "stream",
          "name": "stdout",
          "text": [
            "Массив A:  [5, 2, 9, 1, 3, 6, 4, 8]\n",
            "Массив B (отсортированный):  [1, 2, 3, 4, 5, 6, 8, 9]\n"
          ]
        }
      ]
    },
    {
      "cell_type": "markdown",
      "source": [
        "Задача 4 Отсортировать массив методом пузырька"
      ],
      "metadata": {
        "id": "MZpzBI9aVekL"
      }
    },
    {
      "cell_type": "code",
      "source": [
        "A = [5,3,6,7,4,7,3,5,1]\n",
        "print(\"исходный массив: \", A)\n",
        "\n",
        "n = len(A)\n",
        "\n",
        "for i in range(n):\n",
        "  for j in range (0, n-i-1):\n",
        "    if A[j] > A[j+1]:\n",
        "      A[j], A[j+1] = A[j+1], A[j]\n",
        "\n",
        "print(\"Отсортированный массив: \", A)"
      ],
      "metadata": {
        "id": "0Dh5res0VjKi",
        "outputId": "edd537ab-7cf1-4fce-c9df-c278e92e968b",
        "colab": {
          "base_uri": "https://localhost:8080/"
        }
      },
      "execution_count": 10,
      "outputs": [
        {
          "output_type": "stream",
          "name": "stdout",
          "text": [
            "исходный массив:  [5, 3, 6, 7, 4, 7, 3, 5, 1]\n",
            "Отсортированный массив:  [1, 3, 3, 4, 5, 5, 6, 7, 7]\n"
          ]
        }
      ]
    }
  ]
}