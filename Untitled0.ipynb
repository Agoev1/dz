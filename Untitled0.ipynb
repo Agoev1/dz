{
  "nbformat": 4,
  "nbformat_minor": 0,
  "metadata": {
    "colab": {
      "provenance": [],
      "authorship_tag": "ABX9TyOg0Ipy8Vjye8AcAwaXJnGZ",
      "include_colab_link": true
    },
    "kernelspec": {
      "name": "python3",
      "display_name": "Python 3"
    },
    "language_info": {
      "name": "python"
    }
  },
  "cells": [
    {
      "cell_type": "markdown",
      "metadata": {
        "id": "view-in-github",
        "colab_type": "text"
      },
      "source": [
        "<a href=\"https://colab.research.google.com/github/Agoev1/dz/blob/main/Untitled0.ipynb\" target=\"_parent\"><img src=\"https://colab.research.google.com/assets/colab-badge.svg\" alt=\"Open In Colab\"/></a>"
      ]
    },
    {
      "cell_type": "markdown",
      "source": [],
      "metadata": {
        "id": "q9-FRUhkdeST"
      }
    },
    {
      "cell_type": "markdown",
      "source": [
        "Задача 1\n",
        "Написать программу, вычисляющую объем и площадь поверхности цилиндра по заданным радиусу и высоте"
      ],
      "metadata": {
        "id": "Hc2yeRkanSvT"
      }
    },
    {
      "cell_type": "code",
      "source": [
        "import math\n",
        "r = int(input(\"Введите радиус цилиндра: \"))\n",
        "h = int(input(\"Введите высоту цилиндра: \"))\n",
        "S = 2 * math.pi * r * (r+h)\n",
        "print (f\"Площадь цилиндра с радиусом {r} = {int(S)}\")\n",
        "V = math.pi * r**2 * h\n",
        "print(f\"Обьем цилиндра с радиусом {r} и высотой {h} = {int(V)}\")"
      ],
      "metadata": {
        "colab": {
          "base_uri": "https://localhost:8080/"
        },
        "id": "J7lgsyy-nUy5",
        "outputId": "cd2152d3-f4eb-409a-e426-650fdca5a63a"
      },
      "execution_count": 1,
      "outputs": [
        {
          "output_type": "stream",
          "name": "stdout",
          "text": [
            "Введите радиус цилиндра: 5\n",
            "Введите высоту цилиндра: 3\n",
            "Площадь цилиндра с радиусом 5 = 251\n",
            "Обьем цилиндра с радиусом 5 и высотой3 = 235\n"
          ]
        }
      ]
    },
    {
      "cell_type": "markdown",
      "source": [
        "Задача 2 Написать программу, вычисляющую корень квадратного уравнения"
      ],
      "metadata": {
        "id": "txXSoh-FM1rE"
      }
    },
    {
      "cell_type": "code",
      "source": [
        "import math\n",
        "a = int (input(\"Введите значение переменной a: \"))\n",
        "b = int (input(\"Введите значение переменной b: \"))\n",
        "c = int (input(\"Введите значение переменной c: \"))\n",
        "D = b**2 - 4*a*c\n",
        "if (D >0):\n",
        "  x1 = int ((-b - math.sqrt(D)) / (a*2))\n",
        "  x2 = int ((-b + math.sqrt(D)) / (a*2))\n",
        "  print (f\"x1 = x{1}, x2 = {x2}\")\n",
        "elif(D == 0):\n",
        "    x = int(-b / (a*2))\n",
        "    print (F\"x = {x}\")\n",
        "else:\n",
        "    print(\"нет корней\")\n"
      ],
      "metadata": {
        "id": "jtZyVQGYNXtk",
        "outputId": "e91fdd01-e0c8-4fb0-a708-126373acc3f0",
        "colab": {
          "base_uri": "https://localhost:8080/"
        }
      },
      "execution_count": 3,
      "outputs": [
        {
          "output_type": "stream",
          "name": "stdout",
          "text": [
            "Введите значение переменной a: 5\n",
            "Введите значение переменной b: 4\n",
            "Введите значение переменной c: 3\n",
            "нет корней\n"
          ]
        }
      ]
    }
  ]
}