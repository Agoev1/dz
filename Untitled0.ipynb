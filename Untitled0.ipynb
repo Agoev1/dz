{
  "nbformat": 4,
  "nbformat_minor": 0,
  "metadata": {
    "colab": {
      "provenance": [],
      "authorship_tag": "ABX9TyN+gl7FcRqUuIIY/mwCwGv0",
      "include_colab_link": true
    },
    "kernelspec": {
      "name": "python3",
      "display_name": "Python 3"
    },
    "language_info": {
      "name": "python"
    }
  },
  "cells": [
    {
      "cell_type": "markdown",
      "metadata": {
        "id": "view-in-github",
        "colab_type": "text"
      },
      "source": [
        "<a href=\"https://colab.research.google.com/github/Agoev1/dz/blob/main/Untitled0.ipynb\" target=\"_parent\"><img src=\"https://colab.research.google.com/assets/colab-badge.svg\" alt=\"Open In Colab\"/></a>"
      ]
    },
    {
      "cell_type": "markdown",
      "source": [],
      "metadata": {
        "id": "q9-FRUhkdeST"
      }
    },
    {
      "cell_type": "markdown",
      "source": [
        "Задача 1\n",
        "Написать программу, вычисляющую объем и площадь поверхности цилиндра по заданным радиусу и высоте"
      ],
      "metadata": {
        "id": "Hc2yeRkanSvT"
      }
    },
    {
      "cell_type": "code",
      "source": [
        "import math\n",
        "r = int(input(\"Введите радиус цилиндра: \"))\n",
        "h = int(input(\"Введите высоту цилиндра: \"))\n",
        "S = 2 * math.pi * r * (r+h)\n",
        "print (f\"Площадь цилиндра с радиусом {r} = {int(S)}\")\n",
        "V = math.pi * r**2 * h\n",
        "print(f\"Обьем цилиндра с радиусом {r} и высотой {h} = {int(V)}\")"
      ],
      "metadata": {
        "colab": {
          "base_uri": "https://localhost:8080/"
        },
        "id": "J7lgsyy-nUy5",
        "outputId": "cd2152d3-f4eb-409a-e426-650fdca5a63a"
      },
      "execution_count": 1,
      "outputs": [
        {
          "output_type": "stream",
          "name": "stdout",
          "text": [
            "Введите радиус цилиндра: 5\n",
            "Введите высоту цилиндра: 3\n",
            "Площадь цилиндра с радиусом 5 = 251\n",
            "Обьем цилиндра с радиусом 5 и высотой3 = 235\n"
          ]
        }
      ]
    }
  ]
}